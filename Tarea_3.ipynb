{
  "nbformat": 4,
  "nbformat_minor": 0,
  "metadata": {
    "colab": {
      "name": "Tarea_3.ipynb",
      "provenance": [],
      "authorship_tag": "ABX9TyP5umizJb5LeI8D2af7bvr8",
      "include_colab_link": true
    },
    "kernelspec": {
      "name": "python3",
      "display_name": "Python 3"
    },
    "language_info": {
      "name": "python"
    }
  },
  "cells": [
    {
      "cell_type": "markdown",
      "metadata": {
        "id": "view-in-github",
        "colab_type": "text"
      },
      "source": [
        "<a href=\"https://colab.research.google.com/github/Francisco2209/EstructuraDeDatos1310/blob/main/Tarea_3.ipynb\" target=\"_parent\"><img src=\"https://colab.research.google.com/assets/colab-badge.svg\" alt=\"Open In Colab\"/></a>"
      ]
    },
    {
      "cell_type": "code",
      "metadata": {
        "colab": {
          "base_uri": "https://localhost:8080/"
        },
        "id": "G7Td8A654V5W",
        "outputId": "4165ba4d-d1ff-4210-fbf2-b76d00f7a731"
      },
      "source": [
        "restaurante = { \"MESA\" : 1 ,\n",
        "               \"COMENSAL\" : 1 , \n",
        "               \"ENTRADA\" : \"puré\", \n",
        "               \"MEDIO\" : \"sopa de zanahoria\" , \n",
        "               \"FUERTE\" : \"bistek\" , \n",
        "               \"ADICIONAL\" : \"bistek termino medio, adereso ranch\"  \n",
        "               }\n",
        "\n",
        "\n",
        "llaves = restaurante.keys()\n",
        "for llave in llaves:\n",
        "    print( llave , end=\": \")\n",
        "    print( restaurante[llave] )\n",
        "\n",
        "\n"
      ],
      "execution_count": 5,
      "outputs": [
        {
          "output_type": "stream",
          "name": "stdout",
          "text": [
            "MESA: 1\n",
            "COMENSAL: 1\n",
            "ENTRADA: puré\n",
            "MEDIO: sopa de zanahoria\n",
            "FUERTE: bistek\n",
            "ADICIONAL: bistek termino medio, adereso ranch\n"
          ]
        }
      ]
    },
    {
      "cell_type": "code",
      "metadata": {
        "id": "aIEegUI8EiWa"
      },
      "source": [
        "print( \"Nuevo Comensal\" )\n",
        "\n",
        "print( \"MESA:\" , end=\" \" )\n",
        "restaurante[ 'MESA' ]  = input()\n",
        "\n",
        "print( \"COMENSAL:\" , end=\" \" )\n",
        "restaurante[ 'COMENSAL' ]  = input()\n",
        "\n",
        "print( \"ENTRADA:\" , end=\" \" )\n",
        "restaurante[ 'ENTRADA' ]  = input()\n",
        "\n",
        "print( \"PLATO MEDIO:\" , end=\" \" )\n",
        "restaurante[ 'MEDIO' ]  = input()\n",
        "\n",
        "print( \"PLATO FUERTE:\" , end=\" \" )\n",
        "restaurante[ 'FUERTE' ]  = input()\n",
        "\n",
        "print( \"ADICIONAL\" , end=\" \" )\n",
        "restaurante[ 'ADICIONAL' ]  = input()"
      ],
      "execution_count": null,
      "outputs": []
    }
  ]
}