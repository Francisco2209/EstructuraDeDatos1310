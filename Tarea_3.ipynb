{
  "nbformat": 4,
  "nbformat_minor": 0,
  "metadata": {
    "colab": {
      "name": "Tarea_3.ipynb",
      "provenance": [],
      "authorship_tag": "ABX9TyOdGfzXX192u8mXMS5j90HV",
      "include_colab_link": true
    },
    "kernelspec": {
      "name": "python3",
      "display_name": "Python 3"
    },
    "language_info": {
      "name": "python"
    }
  },
  "cells": [
    {
      "cell_type": "markdown",
      "metadata": {
        "id": "view-in-github",
        "colab_type": "text"
      },
      "source": [
        "<a href=\"https://colab.research.google.com/github/Francisco2209/EstructuraDeDatos1310/blob/main/Tarea_3.ipynb\" target=\"_parent\"><img src=\"https://colab.research.google.com/assets/colab-badge.svg\" alt=\"Open In Colab\"/></a>"
      ]
    },
    {
      "cell_type": "code",
      "metadata": {
        "colab": {
          "base_uri": "https://localhost:8080/"
        },
        "id": "G7Td8A654V5W",
        "outputId": "9eccb6cd-efb0-4331-8853-7d42159526c7"
      },
      "source": [
        "restaurante = { \"MESA\" : 1 ,\n",
        "               \"COMENSAL\" : 1 , \n",
        "               \"ENTRADA\" : \"ensalada verde\", \n",
        "               \"MEDIO\" : \"crema de zanahoria\" , \n",
        "               \"FUERTE\" : \"filete\" , \n",
        "               \"ADICIONAL\" : \"filete termino medio, ensalada sin ningun tipo de semilla, adereso ranch\"  \n",
        "               }\n",
        "\n",
        "\n",
        "llaves = restaurante.keys()\n",
        "for llave in llaves:\n",
        "    print( llave , end=\": \")\n",
        "    print( restaurante[llave] )\n",
        "\n",
        "\n"
      ],
      "execution_count": 6,
      "outputs": [
        {
          "output_type": "stream",
          "name": "stdout",
          "text": [
            "MESA: 1\n",
            "COMENSAL: 1\n",
            "ENTRADA: ensalada verde\n",
            "MEDIO: crema de zanahoria\n",
            "FUERTE: filete\n",
            "ADICIONAL: filete termino medio, ensalada sin ningun tipo de semilla, adereso ranch\n"
          ]
        }
      ]
    },
    {
      "cell_type": "code",
      "metadata": {
        "id": "aIEegUI8EiWa"
      },
      "source": [
        "print( \"Nuevo Comensal\" )\n",
        "\n",
        "print( \"MESA:\" , end=\" \" )\n",
        "restaurante[ 'MESA' ]  = input()\n",
        "\n",
        "print( \"COMENSAL:\" , end=\" \" )\n",
        "restaurante[ 'COMENSAL' ]  = input()\n",
        "\n",
        "print( \"ENTRADA:\" , end=\" \" )\n",
        "restaurante[ 'ENTRADA' ]  = input()\n",
        "\n",
        "print( \"PLATO MEDIO:\" , end=\" \" )\n",
        "restaurante[ 'MEDIO' ]  = input()\n",
        "\n",
        "print( \"PLATO FUERTE:\" , end=\" \" )\n",
        "restaurante[ 'FUERTE' ]  = input()\n",
        "\n",
        "print( \"ADICIONAL\" , end=\" \" )\n",
        "restaurante[ 'ADICIONAL' ]  = input()"
      ],
      "execution_count": null,
      "outputs": []
    }
  ]
}