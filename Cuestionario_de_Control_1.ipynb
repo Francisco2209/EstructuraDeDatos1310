{
  "nbformat": 4,
  "nbformat_minor": 0,
  "metadata": {
    "colab": {
      "name": "Cuestionario_de_Control_1.ipynb",
      "provenance": [],
      "authorship_tag": "ABX9TyNz8s3VSzLaK8VGCA8avk+1",
      "include_colab_link": true
    },
    "kernelspec": {
      "name": "python3",
      "display_name": "Python 3"
    },
    "language_info": {
      "name": "python"
    }
  },
  "cells": [
    {
      "cell_type": "markdown",
      "metadata": {
        "id": "view-in-github",
        "colab_type": "text"
      },
      "source": [
        "<a href=\"https://colab.research.google.com/github/Francisco2209/EstructuraDeDatos1310/blob/main/Cuestionario_de_Control_1.ipynb\" target=\"_parent\"><img src=\"https://colab.research.google.com/assets/colab-badge.svg\" alt=\"Open In Colab\"/></a>"
      ]
    },
    {
      "cell_type": "markdown",
      "metadata": {
        "id": "KCpAnUJOu7Yu"
      },
      "source": [
        "# Programación Orientada a Objetos con Python\n",
        "\n",
        "La POO es un paradigma no soportado originalmente por Python, Python aneja el paradigma Imperativo.\n",
        "\n",
        "Python simula la POO con la declaración de clases y haciendo referencia a un objeto de forma circular. self en python es equivalente a this de java\n",
        "\n",
        "forma 1:\n",
        "\n",
        "class <Nombre de la clase>:\n",
        "      <definicion de la clase>\n",
        "\n",
        "forma 2:\n",
        "\n",
        "class <nombre de la clase>(<Super clase>):\n",
        "      <Definición del cuerpo de la clase>\n",
        "\n",
        "El constructor se define siempre con el método __init__()\n",
        "(DOBLE GUION BAJO ANTES Y DESPUES DE init)\n",
        "\n",
        "La declaración de atributos se realiza por medio de el constructor.\n",
        "\n",
        "Para hacer encapsulamiento de métodos o atributos se debe poner __ (DOBLE GUION BAJO) previo a la declaración del atributo o metodo\n"
      ]
    },
    {
      "cell_type": "code",
      "metadata": {
        "id": "wm_1PW6FuzUy"
      },
      "source": [
        "class Persona:\n",
        "    def __init__( self , n , e, est ):\n",
        "        self.__nombre = n\n",
        "        self.__edad = e\n",
        "        self.__estatura = est\n",
        "    \n",
        "    def to_string( self ):\n",
        "        return \"Nombre: \" + self.__nombre + \" Edad: \" + str(self.__edad) + \" Estatura: \" + str(self.__estatura)\n",
        "    \n",
        "    def set_estatura( self , nueva_est ):\n",
        "        if nueva_est > 0.10 and nueva_est < 2.5 :\n",
        "            self.__estatura = nueva_est\n",
        "        else:\n",
        "            print(\"Error: esa estatura no es posible\")\n",
        "    def get_estatura( self ):\n",
        "        return self.__estatura"
      ],
      "execution_count": 1,
      "outputs": []
    },
    {
      "cell_type": "code",
      "metadata": {
        "colab": {
          "base_uri": "https://localhost:8080/"
        },
        "id": "XUWeFZp5vBxB",
        "outputId": "298dcb0c-801d-4191-8c7c-e7c93bfcbed4"
      },
      "source": [
        "per = Persona( \"José\" , 18, 1.70 ) #self lo manda python de forma implicita\n",
        "print(per.to_string())\n",
        "\n",
        "# encapsulamiento\n",
        "\n",
        "per.nombre = \"Pedro\" # En POO esto no se recomienda\n",
        "print(per.to_string())\n",
        "\n",
        "#per.estatura = 3.9\n",
        "per.set_estatura(1.9)\n",
        "print(per.to_string())\n",
        "\n",
        "print( \"Estatura:\" , end=\"\" )\n",
        "# print( per.estatura )    está siendo ocuiltado por el __ (encapsulamiento)\n",
        "\n",
        "print( per.get_estatura() )"
      ],
      "execution_count": 4,
      "outputs": [
        {
          "output_type": "stream",
          "name": "stdout",
          "text": [
            "Nombre: José Edad: 18 Estatura: 1.7\n",
            "Nombre: José Edad: 18 Estatura: 1.7\n",
            "Nombre: José Edad: 18 Estatura: 1.9\n",
            "Estatura:1.9\n"
          ]
        }
      ]
    },
    {
      "cell_type": "code",
      "metadata": {
        "id": "_3ejW5CbvH4_"
      },
      "source": [
        "class Estudiante( Persona ):\n",
        "    def __init__( self, nc , nombre , edad , est):\n",
        "        self.__num_cta = nc\n",
        "        super().__init__( nombre , edad , est)\n",
        "    \n",
        "    def to_string( self ):\n",
        "        return super().to_string() + \" Numero de cuenta: \" + self.__num_cta"
      ],
      "execution_count": 5,
      "outputs": []
    },
    {
      "cell_type": "code",
      "metadata": {
        "colab": {
          "base_uri": "https://localhost:8080/"
        },
        "id": "A-aRj_R-vNn9",
        "outputId": "ba3389b7-d126-4055-ce20-e858029dba2d"
      },
      "source": [
        "est = Estudiante( \"41\" , \"José\" , 18 , 1.7)\n",
        "print( est.to_string() )"
      ],
      "execution_count": 6,
      "outputs": [
        {
          "output_type": "stream",
          "name": "stdout",
          "text": [
            "Nombre: José Edad: 18 Estatura: 1.7 Numero de cuenta: 41\n"
          ]
        }
      ]
    }
  ]
}