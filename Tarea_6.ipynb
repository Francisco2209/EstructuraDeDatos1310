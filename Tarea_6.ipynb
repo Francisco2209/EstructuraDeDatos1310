{
  "nbformat": 4,
  "nbformat_minor": 0,
  "metadata": {
    "colab": {
      "name": "Array2dADT_1310.ipynb",
      "provenance": [],
      "authorship_tag": "ABX9TyPZEilPz4WWQEbkUCdNrFwA",
      "include_colab_link": true
    },
    "kernelspec": {
      "name": "python3",
      "display_name": "Python 3"
    },
    "language_info": {
      "name": "python"
    }
  },
  "cells": [
    {
      "cell_type": "markdown",
      "metadata": {
        "id": "view-in-github",
        "colab_type": "text"
      },
      "source": [
        "<a href=\"https://colab.research.google.com/github/Francisco2209/EstructuraDeDatos1310/blob/main/Tarea_6.ipynb\" target=\"_parent\"><img src=\"https://colab.research.google.com/assets/colab-badge.svg\" alt=\"Open In Colab\"/></a>"
      ]
    },
    {
      "cell_type": "markdown",
      "metadata": {
        "id": "IEq8E67NnRYc"
      },
      "source": [
        ""
      ]
    },
    {
      "cell_type": "code",
      "metadata": {
        "id": "AuMucAQ7nLgb"
      },
      "source": [
        "class Array2DADT:\n",
        "    def __init__( self, ren , col ):\n",
        "        self.__pollo = [ [0 for y in range( col )] for x in range( ren ) ]\n",
        "\n",
        "    def clear( self, dato ):\n",
        "        self.__pollo = [ [ dato for y in range( self.get_col_size()) ] for x in range( self.get_row_size()) ]\n",
        "    \n",
        "    def get_row_size( self ):\n",
        "        return len( self.__pollo )\n",
        "\n",
        "    def get_col_size( self ):\n",
        "        return len( self.__pollo[0] )\n",
        "\n",
        "    def set_item( self , ren , col , dato ):\n",
        "        self.__pollo[ ren ][ col ] = dato\n",
        "\n",
        "    def get_item( self , ren , col):\n",
        "        return self.__pollo[ ren ][ col ]\n",
        "\n",
        "    def to_string( self ):\n",
        "        cadena = \"\"\n",
        "        for renglon in self.__pollo:\n",
        "            cadena = cadena + \"│\"\n",
        "            for dato in renglon:\n",
        "                cadena = cadena + str(dato) + \" │ \" \n",
        "            cadena = cadena + \"\\n\"\n",
        "        return cadena\n",
        "\n",
        "\n",
        "        \n",
        "\n",
        "\n",
        "        \n"
      ],
      "execution_count": 6,
      "outputs": []
    },
    {
      "cell_type": "code",
      "metadata": {
        "id": "TUFpx6lKoZD6"
      },
      "source": [
        "a2d = Array2DADT( 3 , 6 )\n",
        "print( f\"Ren: {a2d.get_row_size() }\")\n",
        "print( f\"Col: {a2d.get_col_size() }\")\n",
        "print( a2d.to_string() )\n",
        "a2d.clear(\"M\")\n",
        "print( a2d.to_string() )\n",
        "\n",
        "a2d.set_item( 2 , 3 , 'p')\n",
        "print( a2d.to_string() )\n",
        "print( a2d.get_item( 2 , 3 ) )"
      ],
      "execution_count": null,
      "outputs": []
    },
    {
      "cell_type": "code",
      "metadata": {
        "id": "31nJ9oLqQ6Kn"
      },
      "source": [
        "\"\"\"\n",
        "Los datos iniciales como lo son:\n",
        "1. El tamaño de la población ( ren y col)\n",
        "2. La población inicial \n",
        "3. El numero de generaciones a simular-\n",
        "\n",
        "Estaran proporcionadas por un archivo \n",
        "de entrada separada por comas (CSV)\n",
        "\"\"\"\n",
        "\n",
        "#entrada.txt:\n",
        "\"\"\"\n",
        "5\n",
        "5\n",
        "0,0,0,0,0\n",
        "0,0,1,0,0\n",
        "0,1,1,1,0\n",
        "0,0,0,0,0\n",
        "0,0,0,0,0\n",
        "10\n",
        "\"\"\"\n",
        "\n",
        "#entrada2.txt\n",
        "\"\"\"\n",
        "10\n",
        "10\n",
        "0,0,0,0,0,0,0,0,0,0\n",
        "0,0,0,0,0,0,0,0,0,0\n",
        "0,0,0,0,0,0,0,0,0,0\n",
        "0,0,0,1,0,1,0,0,0,0\n",
        "0,0,0,1,1,1,0,0,0,0\n",
        "0,0,0,1,1,1,0,0,0,0\n",
        "0,0,0,1,0,1,0,0,0,0\n",
        "0,0,0,0,0,0,0,0,0,0\n",
        "0,0,0,0,0,0,0,0,0,0\n",
        "0,0,0,0,0,0,0,0,0,0\n",
        "15\n",
        "\"\"\""
      ],
      "execution_count": null,
      "outputs": []
    },
    {
      "cell_type": "code",
      "metadata": {
        "id": "V-RVK-y-3y7b"
      },
      "source": [
        "class JuegoDeLaVida:\n",
        "    def __init__( self , ruta_archivo ):\n",
        "\n",
        "        self.rens = None\n",
        "        self.cols = None\n",
        "        self.tablero = None \n",
        "        self.generaciones = None \n",
        "        self.read_game_data( ruta_archivo )\n",
        "\n",
        "    def read_game_data( self , archivo ):\n",
        "        archivo = open( archivo , 'rt' )\n",
        "        lineas = archivo.readlines()\n",
        "        for index in range( len(lineas) ):\n",
        "            lineas[index] = lineas[index].strip()\n",
        "        #print( lineas )\n",
        "        self.rens = int( lineas[0] )\n",
        "        self.cols = int( lineas[1] )\n",
        "        self.tablero = Array2DADT( self.rens , self.cols )\n",
        "        r = 0\n",
        "        c = 0\n",
        "        print( lineas )\n",
        "        for index in range( 2 , 2 + self.rens , 1 ):\n",
        "            c = 0\n",
        "            for dato in lineas[index].split(','):\n",
        "                self.tablero.set_item( r , c , int(dato) )\n",
        "                c += 1\n",
        "            r +=1\n",
        "\n",
        "        self.generaciones = int( lineas[ - 1 ] )\n",
        "        print( \"Gens:\" , self.generaciones )\n",
        "\n",
        "\n",
        "        print(self.tablero.to_string())\n",
        "\n",
        "\n",
        "    def get_vecinos( self , r , c):\n",
        "        vecinos = []\n",
        "        for ren in range( r-1 , r+2 , 1 ):\n",
        "            for col in range(c-1 , c+2 , 1):\n",
        "                if ren < 0 or ren >= self.tablero.get_row_size() or col < 0 or col >= self.tablero.get_col_size() or (ren==r and col==c):\n",
        "                    pass\n",
        "                else:\n",
        "                    vecinos.append((ren,col))\n",
        "        return vecinos\n",
        "\n",
        "    def get_vecinos_vivos( self , r , c ):\n",
        "        vecinos = self.get_vecinos( r , c )\n",
        "        vivos = 0\n",
        "        for par in vecinos:\n",
        "            if self.tablero.get_item( par[0] , par [1] ) == 1:\n",
        "                vivos += 1\n",
        "        return vivos\n",
        "\n",
        "    def get_vecinos_muertos( self , r , c ):\n",
        "        vecinos = self.get_vecinos( r , c )\n",
        "        muertos = 0\n",
        "        for par in vecinos:\n",
        "            if self.tablero.get_item( par[0] , par [1] ) == 0:\n",
        "                muertos += 1\n",
        "        return muertos   \n",
        "\n",
        "\n",
        "    def calcular_siguiente( self ):\n",
        "        nueva_gen = Array2DADT( self.rens , self.cols )\n",
        "\n",
        "        for ren in range( self.rens ):\n",
        "            for col in range( self.cols ):\n",
        "\n",
        "                if self.tablero.get_item( ren ,col ) == 1:\n",
        "\n",
        "                    if self.get_vecinos_vivos(ren,col) < 2:\n",
        "                        self.tablero.set_item == 0\n",
        "                        \n",
        "                \n",
        "                    elif self.get_vecinos_vivos(ren,col) < 4:\n",
        "                        self.tablero.set_item == 1\n",
        "\n",
        "                    elif self.get_vecinos_vivos(ren,col) < 9:\n",
        "                        self.tablero.set_item == 0\n",
        "\n",
        "\n",
        "                if self.tablero.get_item( ren ,col ) == 0:\n",
        "\n",
        "                    if self.get_vecinos_vivos(ren,col) == 3:\n",
        "                        self.tablero.set_item == 1\n",
        "        \n",
        "        \n",
        "        self.tablero = nueva_gen\n",
        "        print(self.tablero.to_string())\n",
        "        return nueva_gen\n",
        "         \n",
        "        # hacer algo para todas las impresiones de las generaciones\n",
        "    "
      ],
      "execution_count": 143,
      "outputs": []
    },
    {
      "cell_type": "code",
      "metadata": {
        "id": "4qWzxbwd565t"
      },
      "source": [
        "juego = JuegoDeLaVida( \"entrada.txt\" )\n",
        "print( juego.get_vecinos_vivos( 1 , 2 ) )\n",
        "print( juego.get_vecinos_muertos( 1 , 2 ) )\n",
        "print( juego.calcular_siguiente() )\n",
        "\n"
      ],
      "execution_count": null,
      "outputs": []
    },
    {
      "cell_type": "code",
      "metadata": {
        "id": "se5VmqeuRL4X"
      },
      "source": [
        "juego2 = JuegoDeLaVida( \"entrada2.txt\" )\n",
        "print( juego.calcular_siguiente() )"
      ],
      "execution_count": null,
      "outputs": []
    }
  ]
}