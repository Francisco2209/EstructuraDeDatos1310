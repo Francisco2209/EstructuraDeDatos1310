{
  "nbformat": 4,
  "nbformat_minor": 0,
  "metadata": {
    "colab": {
      "name": "Tarea_4.ipynb",
      "provenance": [],
      "collapsed_sections": [],
      "authorship_tag": "ABX9TyMadWRa5z0oUiV5rTiEXvHB",
      "include_colab_link": true
    },
    "kernelspec": {
      "name": "python3",
      "display_name": "Python 3"
    },
    "language_info": {
      "name": "python"
    }
  },
  "cells": [
    {
      "cell_type": "markdown",
      "metadata": {
        "id": "view-in-github",
        "colab_type": "text"
      },
      "source": [
        "<a href=\"https://colab.research.google.com/github/Francisco2209/EstructuraDeDatos1310/blob/main/Tarea_4.ipynb\" target=\"_parent\"><img src=\"https://colab.research.google.com/assets/colab-badge.svg\" alt=\"Open In Colab\"/></a>"
      ]
    },
    {
      "cell_type": "code",
      "metadata": {
        "colab": {
          "base_uri": "https://localhost:8080/"
        },
        "id": "Ifr3mu1YAFTn",
        "outputId": "e6d5bb91-5a76-42f0-e3d2-aa258ce0e0ed"
      },
      "source": [
        "def form_gen( a, b, c): \n",
        "    d =  ( ( ( b ** 2 ) - (4 * a * c) ) ) \n",
        "\n",
        "    if d > 0:\n",
        "        x_1 = ( ( -b ) + ( ( ( b ** 2 ) - (4 * a * c) ) ) ** 0.5 ) / ( 2 * a )\n",
        "        x_2 = ( ( -b ) - ( ( ( b ** 2 ) - (4 * a * c) ) ) ** 0.5 ) / ( 2 * a )\n",
        "        return x_1 , x_2\n",
        "\n",
        "    elif d == 0:\n",
        "        x_1 = ( ( -b )  / ( 2 * a ) )\n",
        "        return x_1\n",
        "\n",
        "    else:\n",
        "        print( \"Tiene solución imaginaria\")\n",
        "        x_1 = ( ( -b ) + ( ( ( b ** 2 ) - (4 * a * c) ) ) ** 0.5 ) / ( 2 * a )\n",
        "        x_2 = ( ( -b ) - ( ( ( b ** 2 ) - (4 * a * c) ) ) ** 0.5 ) / ( 2 * a )\n",
        "        return x_1 , x_2\n",
        "\n",
        "\n",
        "print( \"x^2 + 2x -8 = 0\" )\n",
        "print( form_gen( 1, 2, -8 ) )\n",
        "print( \"3x^2 + 6x + 3 = 0\" )\n",
        "print( form_gen( 3, 6, 3 ) )\n",
        "print( \"x^2 + 2x + 3 = 0\" )\n",
        "print( form_gen( 1, 2, 3 ) )"
      ],
      "execution_count": 44,
      "outputs": [
        {
          "output_type": "stream",
          "name": "stdout",
          "text": [
            "x^2 + 2x -8 = 0\n",
            "(2.0, -4.0)\n",
            "3x^2 + 6x + 3 = 0\n",
            "-1.0\n",
            "x^2 + 2x + 3 = 0\n",
            "Tiene solución imaginaria\n",
            "((-0.9999999999999999+1.4142135623730951j), (-1-1.4142135623730951j))\n"
          ]
        }
      ]
    }
  ]
}