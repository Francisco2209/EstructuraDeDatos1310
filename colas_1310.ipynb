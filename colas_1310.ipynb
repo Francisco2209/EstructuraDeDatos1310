{
  "nbformat": 4,
  "nbformat_minor": 0,
  "metadata": {
    "colab": {
      "name": "colas_1310.ipynb",
      "provenance": [],
      "authorship_tag": "ABX9TyO28tArm0hGrs/ob8vB5+n3",
      "include_colab_link": true
    },
    "kernelspec": {
      "name": "python3",
      "display_name": "Python 3"
    },
    "language_info": {
      "name": "python"
    }
  },
  "cells": [
    {
      "cell_type": "markdown",
      "metadata": {
        "id": "view-in-github",
        "colab_type": "text"
      },
      "source": [
        "<a href=\"https://colab.research.google.com/github/Francisco2209/EstructuraDeDatos1310/blob/main/colas_1310.ipynb\" target=\"_parent\"><img src=\"https://colab.research.google.com/assets/colab-badge.svg\" alt=\"Open In Colab\"/></a>"
      ]
    },
    {
      "cell_type": "code",
      "metadata": {
        "id": "Hs-FYOWMKHBG"
      },
      "source": [
        "class Queue:\n",
        "    def __init__( self ):\n",
        "        self.data = []\n",
        "\n",
        "    def is_empty( self ):\n",
        "        return len(self.data) == 0\n",
        "\n",
        "    def length( self ):\n",
        "        return len(self.data)\n",
        "    \n",
        "    def enqueue( self , value ):\n",
        "        self.data.append( value )\n",
        "\n",
        "    def dequeue( self ):\n",
        "        return self.data.pop( 0 )\n",
        "\n",
        "    def to_string( self ):\n",
        "        for elem in self.data:\n",
        "            print( f\"|{ elem }| <-- \", end=\"\"  )\n",
        "        print(\"\")\n"
      ],
      "execution_count": 22,
      "outputs": []
    },
    {
      "cell_type": "code",
      "metadata": {
        "colab": {
          "base_uri": "https://localhost:8080/"
        },
        "id": "tiPllv9oNX_r",
        "outputId": "0be3b4a0-3ddd-4b27-fa19-7981393867cd"
      },
      "source": [
        "cola = Queue()\n",
        "print( \"Esta vacioo???: \" , cola.is_empty() )\n",
        "print( \"Numeros de elementos = \" , cola.length() )\n",
        "cola.enqueue( 10 )\n",
        "cola.enqueue( 20 )\n",
        "cola.enqueue( 30 )\n",
        "print( \"Esta vacioo???: \" , cola.is_empty() )\n",
        "print( \"Numeros de elementos = \" , cola.length() )\n",
        "cola.enqueue( 40 )\n",
        "cola.enqueue( 50 )\n",
        "cola.enqueue( 60 )\n",
        "cola.to_string()\n",
        "siguiente = cola.dequeue()\n",
        "print(\"Atendiendo a:\" , siguiente )\n",
        "cola.to_string()"
      ],
      "execution_count": 23,
      "outputs": [
        {
          "output_type": "stream",
          "name": "stdout",
          "text": [
            "Esta vacioo???:  True\n",
            "Numeros de elementos =  0\n",
            "Esta vacioo???:  False\n",
            "Numeros de elementos =  3\n",
            "|10| <-- |20| <-- |30| <-- |40| <-- |50| <-- |60| <-- \n",
            "Atendiendo a: 10\n",
            "|20| <-- |30| <-- |40| <-- |50| <-- |60| <-- \n"
          ]
        }
      ]
    }
  ]
}