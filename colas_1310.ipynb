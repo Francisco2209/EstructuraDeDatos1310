{
  "nbformat": 4,
  "nbformat_minor": 0,
  "metadata": {
    "colab": {
      "name": "colas_1310.ipynb",
      "provenance": [],
      "authorship_tag": "ABX9TyP9OCfD2ywqXi8jgYFVHVSP",
      "include_colab_link": true
    },
    "kernelspec": {
      "name": "python3",
      "display_name": "Python 3"
    },
    "language_info": {
      "name": "python"
    }
  },
  "cells": [
    {
      "cell_type": "markdown",
      "metadata": {
        "id": "view-in-github",
        "colab_type": "text"
      },
      "source": [
        "<a href=\"https://colab.research.google.com/github/Francisco2209/EstructuraDeDatos1310/blob/main/colas_1310.ipynb\" target=\"_parent\"><img src=\"https://colab.research.google.com/assets/colab-badge.svg\" alt=\"Open In Colab\"/></a>"
      ]
    },
    {
      "cell_type": "code",
      "metadata": {
        "id": "Hs-FYOWMKHBG"
      },
      "source": [
        "class Queue:\n",
        "    def __init__( self ):\n",
        "        self.data = []\n",
        "\n",
        "    def is_empty( self ):\n",
        "        return len(self.data) == 0\n",
        "\n",
        "    def length( self ):\n",
        "        return len(self.data)\n",
        "    \n",
        "    def enqueue( self , value ):\n",
        "        self.data.append( value )\n",
        "\n",
        "    def dequeue( self ):\n",
        "        return self.data.pop( 0 )\n",
        "\n",
        "    def to_string( self ):\n",
        "        for elem in self.data:\n",
        "            print( f\"|{ elem }| <-- \", end=\"\"  )\n",
        "        print(\"\")\n"
      ],
      "execution_count": 51,
      "outputs": []
    },
    {
      "cell_type": "code",
      "metadata": {
        "colab": {
          "base_uri": "https://localhost:8080/"
        },
        "id": "tiPllv9oNX_r",
        "outputId": "2658c31a-754e-4936-a78c-a11048836bb5"
      },
      "source": [
        "cola = Queue()\n",
        "print( \"Esta vacioo???: \" , cola.is_empty() )\n",
        "print( \"Numeros de elementos = \" , cola.length() )\n",
        "cola.enqueue( 10 )\n",
        "cola.enqueue( 20 )\n",
        "cola.enqueue( 30 )\n",
        "print( \"Esta vacioo???: \" , cola.is_empty() )\n",
        "print( \"Numeros de elementos = \" , cola.length() )\n",
        "cola.enqueue( 40 )\n",
        "cola.enqueue( 50 )\n",
        "cola.enqueue( 60 )\n",
        "cola.to_string()\n",
        "siguiente = cola.dequeue()\n",
        "print(\"Atendiendo a:\" , siguiente )\n",
        "cola.to_string()"
      ],
      "execution_count": 52,
      "outputs": [
        {
          "output_type": "stream",
          "name": "stdout",
          "text": [
            "Esta vacioo???:  True\n",
            "Numeros de elementos =  0\n",
            "Esta vacioo???:  False\n",
            "Numeros de elementos =  3\n",
            "|10| <-- |20| <-- |30| <-- |40| <-- |50| <-- |60| <-- \n",
            "Atendiendo a: 10\n",
            "|20| <-- |30| <-- |40| <-- |50| <-- |60| <-- \n"
          ]
        }
      ]
    },
    {
      "cell_type": "markdown",
      "metadata": {
        "id": "EYmrcNtkDrjK"
      },
      "source": [
        "# Variantes del ADT Cola\n",
        "\n",
        "##1. Simples\n",
        "## Con Prioridad:\n",
        "    - Acotado\n",
        "    - No acotado"
      ]
    },
    {
      "cell_type": "code",
      "metadata": {
        "id": "o2OB3pIdD61O"
      },
      "source": [
        "# Implementación de la cola de prioridad acotada\n",
        "\n",
        "class BoundedPriorityQueue:\n",
        "    def __init__( self , niveles ):\n",
        "        self.__data = [ Queue() for x in range( niveles ) ]\n",
        "        #array self.__dat = Array(niveles)\n",
        "        #self.__data.clear( Queue() )\n",
        "        self.__size = 0 # el numero de lementos ya ingresados en la estructura\n",
        "\n",
        "    def is_empty( self ):\n",
        "        return self.__size == 0\n",
        "\n",
        "    def get_length( self ):\n",
        "        return self.__size\n",
        "\n",
        "    def enqueue( self , prioridad , elem ):\n",
        "        if prioridad < len( self.__data ) \\\n",
        "            and prioridad >= 0:\n",
        "            self.__data[ prioridad ].enqueue( elem )\n",
        "            self.__size += 1\n",
        "\n",
        "    def dequeue( self ):\n",
        "        nivel = 0\n",
        "        while self.__data[ nivel ].is_empty() \\\n",
        "        and nivel < self.get_length():\n",
        "            nivel += 1\n",
        "\n",
        "        if nivel >= self.get_length():\n",
        "            print(\"Cola está vaciá\")\n",
        "        else:\n",
        "            return self.__data[ nivel ].dequeue()\n",
        "\n",
        "    def to_string( self ):\n",
        "        prioridad = 0\n",
        "        for cola in self.__data:\n",
        "            print( f\"Prioridad {prioridad} ->\" , end=\"\")\n",
        "            \n",
        "            cola.to_string()\n",
        "            prioridad +=1\n"
      ],
      "execution_count": 53,
      "outputs": []
    },
    {
      "cell_type": "code",
      "metadata": {
        "colab": {
          "base_uri": "https://localhost:8080/"
        },
        "id": "kZ8bAohPGlHi",
        "outputId": "288e4274-f3cc-4320-80f6-8a7ac1e30b6d"
      },
      "source": [
        "# prueba de la cola con prioridad\n",
        "salvavidas = BoundedPriorityQueue( 7 )\n",
        "salvavidas.enqueue( 4 , \"Maestre\" )\n",
        "salvavidas.enqueue( 1 , \"Niños\" )\n",
        "salvavidas.enqueue( 4 , \"Mecanico\" )\n",
        "salvavidas.enqueue( 3 , \"Mujeres\" )\n",
        "salvavidas.enqueue( 2 , \"Tercera edad\" )\n",
        "salvavidas.enqueue( 1 , \"Niñas\" )\n",
        "salvavidas.enqueue( 3 , \"Hombres\" )\n",
        "salvavidas.enqueue( 4 , \"Vigia\" )\n",
        "salvavidas.enqueue( 5 , \"Capitan\" )\n",
        "salvavidas.enqueue( 4 , \"Timonel\" )\n",
        "salvavidas.to_string()\n",
        "sig = salvavidas.dequeue()\n",
        "print(f\"subiendo { sig } al bote salvavidas\")\n",
        "salvavidas.to_string()\n",
        "print(\"-.-.-\")\n",
        "sig = salvavidas.dequeue()\n",
        "print(f\"subiendo { sig } al bote salvavidas\")\n",
        "salvavidas.to_string()"
      ],
      "execution_count": 54,
      "outputs": [
        {
          "output_type": "stream",
          "name": "stdout",
          "text": [
            "Prioridad 0 ->\n",
            "Prioridad 1 ->|Niños| <-- |Niñas| <-- \n",
            "Prioridad 2 ->|Tercera edad| <-- \n",
            "Prioridad 3 ->|Mujeres| <-- |Hombres| <-- \n",
            "Prioridad 4 ->|Maestre| <-- |Mecanico| <-- |Vigia| <-- |Timonel| <-- \n",
            "Prioridad 5 ->|Capitan| <-- \n",
            "Prioridad 6 ->\n",
            "subiendo Niños al bote salvavidas\n",
            "Prioridad 0 ->\n",
            "Prioridad 1 ->|Niñas| <-- \n",
            "Prioridad 2 ->|Tercera edad| <-- \n",
            "Prioridad 3 ->|Mujeres| <-- |Hombres| <-- \n",
            "Prioridad 4 ->|Maestre| <-- |Mecanico| <-- |Vigia| <-- |Timonel| <-- \n",
            "Prioridad 5 ->|Capitan| <-- \n",
            "Prioridad 6 ->\n",
            "-.-.-\n",
            "subiendo Niñas al bote salvavidas\n",
            "Prioridad 0 ->\n",
            "Prioridad 1 ->\n",
            "Prioridad 2 ->|Tercera edad| <-- \n",
            "Prioridad 3 ->|Mujeres| <-- |Hombres| <-- \n",
            "Prioridad 4 ->|Maestre| <-- |Mecanico| <-- |Vigia| <-- |Timonel| <-- \n",
            "Prioridad 5 ->|Capitan| <-- \n",
            "Prioridad 6 ->\n"
          ]
        }
      ]
    },
    {
      "cell_type": "code",
      "metadata": {
        "id": "g1ZsCLiwSB3p"
      },
      "source": [
        "# Implementación de la cola de prioridad sin acotamiento\n",
        "\n",
        "class PriorityQueue:\n",
        "    def __init__( self ):\n",
        "        self.__data = []\n",
        "        self.__size = 0 \n",
        "\n",
        "    def is_empty( self ):\n",
        "        return self.__size == 0\n",
        "\n",
        "    def get_length( self ):\n",
        "        return self.__size\n",
        "\n",
        "    def enqueue( self , prioridad , elem ):\n",
        "        existe = False\n",
        "        indice = 0\n",
        "        for index in range( len(self.__data) ):\n",
        "            if self.__data[index][ \"prioridad\"] == prioridad:\n",
        "                existe = True\n",
        "                indice = index\n",
        "        if existe:\n",
        "            self.__data[indice][\"cola\"].enqueue(elem)\n",
        "        else:\n",
        "            self.__data.append( { \"prioridad\" : prioridad , \"cola\" : Queue() } )\n",
        "            self.__data[-1][\"cola\"].enqueue(elem)\n",
        "\n",
        "    def to_string( self ):\n",
        "        for cola in self.__data:\n",
        "            cola[\"cola\"].to_string()\n"
      ],
      "execution_count": 55,
      "outputs": []
    },
    {
      "cell_type": "code",
      "metadata": {
        "colab": {
          "base_uri": "https://localhost:8080/"
        },
        "id": "gfizg0O3Wf6O",
        "outputId": "b0a1e2a6-33d2-4669-e728-081a4028fce7"
      },
      "source": [
        "cp = PriorityQueue()\n",
        "cp.enqueue( 1 , \"niñas\" )\n",
        "cp.enqueue( 2  , \"niños\" )\n",
        "cp.enqueue( 2  , \"profesores\" )\n",
        "cp.to_string()"
      ],
      "execution_count": 56,
      "outputs": [
        {
          "output_type": "stream",
          "name": "stdout",
          "text": [
            "|niñas| <-- \n",
            "|niños| <-- |profesores| <-- \n"
          ]
        }
      ]
    }
  ]
}