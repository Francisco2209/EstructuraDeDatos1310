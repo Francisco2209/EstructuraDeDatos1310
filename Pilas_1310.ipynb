{
  "nbformat": 4,
  "nbformat_minor": 0,
  "metadata": {
    "colab": {
      "name": "Pilas_1310.ipynb",
      "provenance": [],
      "authorship_tag": "ABX9TyNyO75/1g0mvd0JT5XnEx3x",
      "include_colab_link": true
    },
    "kernelspec": {
      "name": "python3",
      "display_name": "Python 3"
    },
    "language_info": {
      "name": "python"
    }
  },
  "cells": [
    {
      "cell_type": "markdown",
      "metadata": {
        "id": "view-in-github",
        "colab_type": "text"
      },
      "source": [
        "<a href=\"https://colab.research.google.com/github/Francisco2209/EstructuraDeDatos1310/blob/main/Pilas_1310.ipynb\" target=\"_parent\"><img src=\"https://colab.research.google.com/assets/colab-badge.svg\" alt=\"Open In Colab\"/></a>"
      ]
    },
    {
      "cell_type": "code",
      "metadata": {
        "id": "HTWZAYYuMvzZ"
      },
      "source": [
        "class StackADT:\n",
        "    def __init__( self ):\n",
        "        self.__data = list()\n",
        "\n",
        "    # regresa true si la pila está vacia\n",
        "    def is_empty( self ):\n",
        "         return   len( self.__data ) == 0\n",
        "\n",
        "    def get_lenght( self ):\n",
        "        return  len( self.__data) \n",
        "\n",
        "    def pop( self ):\n",
        "        if self.is_empty():\n",
        "            print( \"Pila vacia, nada que sacar \")\n",
        "        else:\n",
        "            return self.__data.pop()\n",
        "\n",
        "    def peek( self ):\n",
        "        if self.is_empty():\n",
        "            print( \"Pila vacia, nada que sacar \")\n",
        "        else:\n",
        "            return self.__data[ -1 ]\n",
        "\n",
        "    def push( self , value ):\n",
        "        self.__data.append( value )\n",
        "\n",
        "    def to_string( self ):\n",
        "        for item in self.__data[::-1]:\n",
        "            print( f\"| { item } |\")\n",
        "    \n",
        "        "
      ],
      "execution_count": 30,
      "outputs": []
    },
    {
      "cell_type": "code",
      "metadata": {
        "id": "uf93INweQdQ-"
      },
      "source": [
        "pila = StackADT()\n",
        "print( \"Esta vacia? =\" , pila.is_empty() )\n",
        "print(\"# elementos:\" , pila.get_lenght() )\n",
        "pila.push(10)\n",
        "print( \"Esta vacia? =\" , pila.is_empty() )\n",
        "print(\"# elementos:\" , pila.get_lenght() )\n",
        "pila.push(20)\n",
        "pila.push(30)\n",
        "pila.push(40)\n",
        "pila.to_string()\n",
        "print( pila.pop() ) #40\n",
        "print( pila.peek()) #30\n",
        "pila.to_string()"
      ],
      "execution_count": null,
      "outputs": []
    },
    {
      "cell_type": "markdown",
      "metadata": {
        "id": "9J1O2TLVyo-k"
      },
      "source": [
        "# Aplicacion de pilas, balanceo de llaves en programacion\n"
      ]
    },
    {
      "cell_type": "code",
      "metadata": {
        "id": "VzhDYPZqy16T"
      },
      "source": [
        "!cat prog.txt"
      ],
      "execution_count": null,
      "outputs": []
    },
    {
      "cell_type": "code",
      "metadata": {
        "colab": {
          "base_uri": "https://localhost:8080/"
        },
        "id": "HZGch9Emz0Rb",
        "outputId": "e51532df-5db2-4444-d489-8eeabb3aaa08"
      },
      "source": [
        "entrada = open( 'prog.txt' , 'rt' )\n",
        "codigo = entrada.read()\n",
        "#print( codigo )\n",
        "pilaControl = StackADT()\n",
        "pilaControl.push(\"#\") #caracter de pila vacía\n",
        "\n",
        "for letra in codigo:\n",
        "    #print(f\"--> { letra } <--\")\n",
        "    if letra == '{':           # regla 1\n",
        "        pilaControl.push(\"{\")\n",
        "    elif letra == '}':         # regla 2\n",
        "        basura = pilaControl.pop()\n",
        "    else:\n",
        "        pass\n",
        "\n",
        "# NOTA: Este codigo aun no contempla desbalanceo de mas llaves de cierre\n",
        "\n",
        "if pilaControl.peek() == '#':\n",
        "    print(\"El codigo proporcionado está correctamente balanceado\")\n",
        "else:\n",
        "    print(\"El codigo no está  balanceado en llaves { y }\")"
      ],
      "execution_count": 36,
      "outputs": [
        {
          "output_type": "stream",
          "name": "stdout",
          "text": [
            "El codigo proporcionado está correctamente balanceado\n"
          ]
        }
      ]
    },
    {
      "cell_type": "markdown",
      "metadata": {
        "id": "oU8y5EIJ7QRv"
      },
      "source": [
        "## Aplicación de Pilas\n",
        "\n",
        "### Estrategia de diseño dealgoritmos BACKTRACKING"
      ]
    },
    {
      "cell_type": "code",
      "metadata": {
        "id": "a1Y5OTRH7Zhp"
      },
      "source": [
        ""
      ],
      "execution_count": null,
      "outputs": []
    }
  ]
}