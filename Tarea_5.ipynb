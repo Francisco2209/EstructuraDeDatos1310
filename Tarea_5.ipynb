{
  "nbformat": 4,
  "nbformat_minor": 0,
  "metadata": {
    "colab": {
      "name": "Tarea_5.ipynb",
      "provenance": [],
      "authorship_tag": "ABX9TyNF/In29TTu8T3Y4PcxIjaV",
      "include_colab_link": true
    },
    "kernelspec": {
      "name": "python3",
      "display_name": "Python 3"
    },
    "language_info": {
      "name": "python"
    }
  },
  "cells": [
    {
      "cell_type": "markdown",
      "metadata": {
        "id": "view-in-github",
        "colab_type": "text"
      },
      "source": [
        "<a href=\"https://colab.research.google.com/github/Francisco2209/EstructuraDeDatos1310/blob/main/Tarea_5.ipynb\" target=\"_parent\"><img src=\"https://colab.research.google.com/assets/colab-badge.svg\" alt=\"Open In Colab\"/></a>"
      ]
    },
    {
      "cell_type": "code",
      "metadata": {
        "colab": {
          "base_uri": "https://localhost:8080/"
        },
        "id": "AuifH-TnMLa5",
        "outputId": "28e5e497-c963-40c3-e338-96e9171a2762"
      },
      "source": [
        "!cat junio.dat"
      ],
      "execution_count": 13,
      "outputs": [
        {
          "output_type": "stream",
          "name": "stdout",
          "text": [
            "numero de trabajador, nombres, paterno, materno, horas extra, sueldo base, año de ingreso\r\n",
            "2345,CARLOS,PEREZ,CASTILLO,0,9850,2017\r\n",
            "5754,ANGEL,GOMEZ,GARRIDO,1,9850,2020\r\n",
            "5345,JESUS,MARTIN,SANTOS,2,9850,2016\r\n",
            "3267,DAVID,JIMENEZ,LOZANO,2,9850,2017\r\n",
            "8765,PEDRO,RUIZ,GUERRERO,2,9850,2017\r\n",
            "5454,DANIEL,HERNANDEZ,CANO,3,9850,2018\r\n",
            "3456,ALEJANDRO,DIAZ,PRIETO,2,9850,2018\r\n",
            "3445,MARIA,MORENO,MENDEZ,1,9850,2018\r\n",
            "9088,ALBERTO,MU�OZ,CRUZ,1,9850,2017\r\n",
            "8877,RAFAEL,ALVAREZ,FLORES,2,9850,2017\r\n",
            "6767,FERNANDO,ROMERO,HERRERA,4,9850,2019\r\n",
            "5654,PABLO,ALONSO,GALLEGO,1,9850,2019\r\n",
            "4323,JORGE,GUTIERREZ,MARQUEZ,2,9850,2020\r\n",
            "2232,RAMON,NAVARRO,LEON,1,9850,2016"
          ]
        }
      ]
    },
    {
      "cell_type": "code",
      "metadata": {
        "colab": {
          "base_uri": "https://localhost:8080/"
        },
        "id": "MNWME482mxCy",
        "outputId": "b8aee70a-4cc4-422e-f296-677c9b463267"
      },
      "source": [
        "archivo = open( 'junio.dat' , 'rt' , encoding = 'latin-1' )\n",
        "print( archivo.readlines() )\n"
      ],
      "execution_count": 12,
      "outputs": [
        {
          "output_type": "stream",
          "name": "stdout",
          "text": [
            "['numero de trabajador, nombres, paterno, materno, horas extra, sueldo base, aÃ±o de ingreso\\n', '2345,CARLOS,PEREZ,CASTILLO,0,9850,2017\\n', '5754,ANGEL,GOMEZ,GARRIDO,1,9850,2020\\n', '5345,JESUS,MARTIN,SANTOS,2,9850,2016\\n', '3267,DAVID,JIMENEZ,LOZANO,2,9850,2017\\n', '8765,PEDRO,RUIZ,GUERRERO,2,9850,2017\\n', '5454,DANIEL,HERNANDEZ,CANO,3,9850,2018\\n', '3456,ALEJANDRO,DIAZ,PRIETO,2,9850,2018\\n', '3445,MARIA,MORENO,MENDEZ,1,9850,2018\\n', '9088,ALBERTO,MU\\x84OZ,CRUZ,1,9850,2017\\n', '8877,RAFAEL,ALVAREZ,FLORES,2,9850,2017\\n', '6767,FERNANDO,ROMERO,HERRERA,4,9850,2019\\n', '5654,PABLO,ALONSO,GALLEGO,1,9850,2019\\n', '4323,JORGE,GUTIERREZ,MARQUEZ,2,9850,2020\\n', '2232,RAMON,NAVARRO,LEON,1,9850,2016']\n"
          ]
        }
      ]
    },
    {
      "cell_type": "code",
      "metadata": {
        "id": "gKzOOMM8m5Do"
      },
      "source": [
        "class Array:\n",
        "    def __init__( self, tam ):\n",
        "        self.__tamanio = tam\n",
        "        self.__data = [ 0 for x in range(self.__tamanio) ]\n",
        "\n",
        "    def to_string( self ):\n",
        "        info = \" \"\n",
        "        for dato in self.__data:\n",
        "            info = info + str(dato) + \" | \"\n",
        "        return info\n",
        "\n",
        "    def get_item( self , index ):\n",
        "        return self.__data[index]\n",
        "\n",
        "    def get_length( self ):\n",
        "        return len( self.__data )\n",
        "\n",
        "    def set_item( self , dato , index ):\n",
        "        #hace falta revisar limites\n",
        "        if index >= 0 and index < self.get_length():\n",
        "            self.__data[index] = dato\n",
        "        else:\n",
        "            print( \"Error: Indice fuera del rango\" )\n",
        "    \n",
        "    def clear( self , dato ):\n",
        "        self.__data = [ dato for x in range(self.__tamanio) ]"
      ],
      "execution_count": 2,
      "outputs": []
    },
    {
      "cell_type": "code",
      "metadata": {
        "colab": {
          "base_uri": "https://localhost:8080/"
        },
        "id": "3E_lyTIom-hb",
        "outputId": "e789508a-575b-4447-b05a-48121f9b52ed"
      },
      "source": [
        "class Trabajador:\n",
        "    def __init__( self , nt , nom , pat , mat , he , sb , ai):\n",
        "        self.__numero_trabajador = nt \n",
        "        #asi para todos los atributos\n",
        "        self.__nombre = nom\n",
        "        self.__paterno = pat\n",
        "        self.__materno = mat\n",
        "        self.__horas_extra = he \n",
        "        self.__sueldo_base = sb\n",
        "        self.__anio_ingreso = ai\n",
        "    #aqui van todos los metodos de acceso \n",
        "    #(set numero de trabajador, get numero de trabajador )\n",
        "    def set_numero_trabajador( self , nt):\n",
        "        self.__numero_trabajador = nt \n",
        "    def get_numero_trabajador( self ):\n",
        "        return self.__numero_trabajador\n",
        "    \n",
        "    def set_nombre( self , nom ):\n",
        "        self.__nombre = nom\n",
        "    def get_nombre( self ):\n",
        "        return self.__nombre \n",
        "\n",
        "    def set_apellido_paterno( self , pat ):\n",
        "        self.__paterno = pat\n",
        "    def get_apellido_paterno( self ):\n",
        "        return self.__paterno\n",
        "    \n",
        "    def set_apellido_materno( self , mat ):\n",
        "        self.__materno = pat\n",
        "    def get_apellido_materno( self ):\n",
        "        return self.__materno\n",
        "    \n",
        "    def set_horas_extra( self , he ):\n",
        "        self.__horas_extra = he \n",
        "    def get_horas_extra( self ):\n",
        "        return self.__horas_extra\n",
        "\n",
        "    def set_sueldo_base( self , sb ):\n",
        "        self.__sueldo_base = sb \n",
        "    def get_sueldo_base( self ):\n",
        "        return self.__sueldo_base\n",
        "\n",
        "    def set_anio_ingreso( self , ai ):\n",
        "        self.__anio_ingreso = ai \n",
        "    def get_anio_ingreso( self ):\n",
        "        return self.__anio_ingreso\n",
        "\n",
        "    def to_string( self ):\n",
        "        return \"Nombre: \" + self.__nombre + \" Sueldo: $\" + str(self.calcular_sueldo_mensual())\n",
        "\n",
        "\n",
        "\n",
        "    \n",
        "    # metodos de uso general -> metodos que hacen calculos de la logica del negocio\n",
        "\n",
        "    def calcular_sueldo_mensual( self ):\n",
        "        anios = 2021 - self.get_anio_ingreso()\n",
        "        sueldo = self.get_sueldo_base()\n",
        "        # agregar horas extra\n",
        "        sueldo += self.get_horas_extra() * 276.5 # sueldo = sueldo + 1\n",
        "        #agregar prestación por antiguedad\n",
        "        sueldo = sueldo + ( sueldo * anios * 0.03 )\n",
        "        return sueldo \n",
        "    \n",
        "\n",
        "\n",
        "    def calcular_antiguedad( self ):\n",
        "        return 2021 - self.get_anio_ingreso()\n",
        "\n",
        "emp = Trabajador( 2345 , 'CARLOS' , 'PEREZ' , 'CASTILLO' , 0 , 9850 , 2017 )\n",
        "print( emp.get_sueldo_base() )\n",
        "print( emp.get_horas_extra() )\n",
        "print( emp.calcular_antiguedad() )\n",
        "print( emp.to_string())"
      ],
      "execution_count": 3,
      "outputs": [
        {
          "output_type": "stream",
          "name": "stdout",
          "text": [
            "9850\n",
            "0\n",
            "4\n",
            "Nombre: CARLOS Sueldo: $11032.0\n"
          ]
        }
      ]
    },
    {
      "cell_type": "code",
      "metadata": {
        "colab": {
          "base_uri": "https://localhost:8080/"
        },
        "id": "HTSYnH89nAdv",
        "outputId": "10da8ea1-6c41-484e-e276-8e67169725dc"
      },
      "source": [
        "class NominaADT:\n",
        "    def __init__( self , ruta_archivo ):\n",
        "        #abrir el archivo y determinar en numero de empleados (14) -> num_emp\n",
        "        archivo = open( ruta_archivo , 'rt' , encoding = 'latin-1' )\n",
        "        empleados = archivo.readlines()\n",
        "        del empleados[0]\n",
        "        for index in range( len( empleados ) ):\n",
        "            empleados[index] = empleados[index].strip().split(',')\n",
        "            \n",
        "        self.__data = Array( len(empleados) )\n",
        "        cont = 0\n",
        "        for emp in empleados:\n",
        "            tmp = Trabajador( int(emp[0]) , emp[1] , emp[2] , emp[3] , int(emp[4]) , int(emp[5]) , int(emp[6]) )\n",
        "            self.__data.set_item( tmp , cont )\n",
        "            cont += 1\n",
        "\n",
        "                                # nt . nom , pat , mat , he , sb . ai\n",
        "\n",
        "\n",
        "\n",
        "            \n",
        "\n",
        "                  \n",
        "\n",
        "\n",
        "    def calcular_sueldos( self ):\n",
        "        for index in range( self.__data.get_length( )):\n",
        "            print( self.__data.get_item(index).to_string() )\n",
        "\n",
        "    def get_trabajador( self , nt ):\n",
        "        return self.__data.get_item( nt )\n",
        "    \n",
        "    def buscar_mas_antiguo( self ):\n",
        "        mayor = 0\n",
        "        nombre = ''\n",
        "        #iterar y buscar en el Array el de mayor de antiguedad\n",
        "        for i in range( self.__data.get_length( ) - 1 ):\n",
        "            trabajador = self.get_trabajador( i + 1 )\n",
        "            if trabajador.calcular_antiguedad() > mayor:\n",
        "                mayor = trabajador.calcular_antiguedad()\n",
        "                nombre = trabajador.get_nombre()\n",
        "                nombres = nombre\n",
        "            elif trabajador.calcular_antiguedad() == mayor:\n",
        "                nombre = trabajador.get_nombre()\n",
        "                nombres = nombres + ' ' + str(nombre)\n",
        "        print( f' Los trabajadores más antiguos son: {nombres}')\n",
        "\n",
        "            \n",
        "            \n",
        "\n",
        "    def buscar_menos_antiguo( self ):\n",
        "        menor = 1\n",
        "        nombres = ''\n",
        "        nombres1 = ''\n",
        "        #iterar y buscar en el Array el de menor de antiguedad\n",
        "        for i in range( self.__data.get_length( ) - 1 ):\n",
        "            trabajador = self.get_trabajador( i - 1 )\n",
        "            if trabajador.calcular_antiguedad() < menor:\n",
        "                menor = trabajador.calcular_antiguedad()\n",
        "                nombre = trabajador.get_nombre()\n",
        "                nombres = nombre\n",
        "            elif trabajador.calcular_antiguedad() == menor:\n",
        "                nombre = trabajador.get_nombre()\n",
        "                nombres = nombres + ' , ' + str(nombre)\n",
        "        print( f' Los trabajadores menos antiguos son: {nombres}')\n",
        "\n",
        "ejemplo = NominaADT( 'junio.dat' )\n",
        "ejemplo.calcular_sueldos()\n",
        "ejemplo.buscar_mas_antiguo()\n",
        "ejemplo.buscar_menos_antiguo()"
      ],
      "execution_count": 22,
      "outputs": [
        {
          "output_type": "stream",
          "name": "stdout",
          "text": [
            "Nombre: CARLOS Sueldo: $11032.0\n",
            "Nombre: ANGEL Sueldo: $10430.295\n",
            "Nombre: JESUS Sueldo: $11963.45\n",
            "Nombre: DAVID Sueldo: $11651.36\n",
            "Nombre: PEDRO Sueldo: $11651.36\n",
            "Nombre: DANIEL Sueldo: $11640.655\n",
            "Nombre: ALEJANDRO Sueldo: $11339.27\n",
            "Nombre: MARIA Sueldo: $11037.885\n",
            "Nombre: ALBERTO Sueldo: $11341.68\n",
            "Nombre: RAFAEL Sueldo: $11651.36\n",
            "Nombre: FERNANDO Sueldo: $11613.36\n",
            "Nombre: PABLO Sueldo: $10734.09\n",
            "Nombre: JORGE Sueldo: $10715.09\n",
            "Nombre: RAMON Sueldo: $11645.475\n",
            " Los trabajadores más antiguos son: JESUS RAMON\n",
            " Los trabajadores menos antiguos son:  , ANGEL\n"
          ]
        }
      ]
    }
  ]
}