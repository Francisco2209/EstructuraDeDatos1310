{
  "nbformat": 4,
  "nbformat_minor": 0,
  "metadata": {
    "colab": {
      "name": "Ejercicio1_ADTArray.ipynb",
      "provenance": [],
      "authorship_tag": "ABX9TyMGGe+HKMt3pAAMJPsHvCYT",
      "include_colab_link": true
    },
    "kernelspec": {
      "name": "python3",
      "display_name": "Python 3"
    },
    "language_info": {
      "name": "python"
    }
  },
  "cells": [
    {
      "cell_type": "markdown",
      "metadata": {
        "id": "view-in-github",
        "colab_type": "text"
      },
      "source": [
        "<a href=\"https://colab.research.google.com/github/Francisco2209/EstructuraDeDatos1310/blob/main/Ejercicio1_ADTArray.ipynb\" target=\"_parent\"><img src=\"https://colab.research.google.com/assets/colab-badge.svg\" alt=\"Open In Colab\"/></a>"
      ]
    },
    {
      "cell_type": "markdown",
      "metadata": {
        "id": "jGq8fQrTlTOu"
      },
      "source": [
        "La carpeta datos es volatil..."
      ]
    },
    {
      "cell_type": "code",
      "metadata": {
        "colab": {
          "base_uri": "https://localhost:8080/"
        },
        "id": "MIgIV7dLk8EO",
        "outputId": "c6e23df9-b1a9-4b44-810a-5d3cf7fa1a8e"
      },
      "source": [
        "!cat junio.dat\n"
      ],
      "execution_count": 3,
      "outputs": [
        {
          "output_type": "stream",
          "name": "stdout",
          "text": [
            "numero de trabajador, nombres, paterno, materno, horas extra, sueldo base, año de ingreso\r\n",
            "2345,CARLOS,PEREZ,CASTILLO,0,9850,2017\r\n",
            "5754,ANGEL,GOMEZ,GARRIDO,1,9850,2020\r\n",
            "5345,JESUS,MARTIN,SANTOS,2,9850,2016\r\n",
            "3267,DAVID,JIMENEZ,LOZANO,2,9850,2017\r\n",
            "8765,PEDRO,RUIZ,GUERRERO,2,9850,2017\r\n",
            "5454,DANIEL,HERNANDEZ,CANO,3,9850,2018\r\n",
            "3456,ALEJANDRO,DIAZ,PRIETO,2,9850,2018\r\n",
            "3445,MARIA,MORENO,MENDEZ,1,9850,2018\r\n",
            "9088,ALBERTO,MU�OZ,CRUZ,1,9850,2017\r\n",
            "8877,RAFAEL,ALVAREZ,FLORES,2,9850,2017\r\n",
            "6767,FERNANDO,ROMERO,HERRERA,4,9850,2019\r\n",
            "5654,PABLO,ALONSO,GALLEGO,1,9850,2019\r\n",
            "4323,JORGE,GUTIERREZ,MARQUEZ,2,9850,2020\r\n",
            "2232,RAMON,NAVARRO,LEON,1,9850,2016"
          ]
        }
      ]
    },
    {
      "cell_type": "code",
      "metadata": {
        "colab": {
          "base_uri": "https://localhost:8080/"
        },
        "id": "6HdaAIN_nAat",
        "outputId": "6e8a7977-2f8b-4366-8977-9a1442040574"
      },
      "source": [
        "archivo = open( 'junio.dat' , 'rt' , encoding = 'latin-1' )\n",
        "print( archivo.read() )\n"
      ],
      "execution_count": 7,
      "outputs": [
        {
          "output_type": "stream",
          "name": "stdout",
          "text": [
            "numero de trabajador, nombres, paterno, materno, horas extra, sueldo base, aÃ±o de ingreso\n",
            "2345,CARLOS,PEREZ,CASTILLO,0,9850,2017\n",
            "5754,ANGEL,GOMEZ,GARRIDO,1,9850,2020\n",
            "5345,JESUS,MARTIN,SANTOS,2,9850,2016\n",
            "3267,DAVID,JIMENEZ,LOZANO,2,9850,2017\n",
            "8765,PEDRO,RUIZ,GUERRERO,2,9850,2017\n",
            "5454,DANIEL,HERNANDEZ,CANO,3,9850,2018\n",
            "3456,ALEJANDRO,DIAZ,PRIETO,2,9850,2018\n",
            "3445,MARIA,MORENO,MENDEZ,1,9850,2018\n",
            "9088,ALBERTO,MUOZ,CRUZ,1,9850,2017\n",
            "8877,RAFAEL,ALVAREZ,FLORES,2,9850,2017\n",
            "6767,FERNANDO,ROMERO,HERRERA,4,9850,2019\n",
            "5654,PABLO,ALONSO,GALLEGO,1,9850,2019\n",
            "4323,JORGE,GUTIERREZ,MARQUEZ,2,9850,2020\n",
            "2232,RAMON,NAVARRO,LEON,1,9850,2016\n"
          ]
        }
      ]
    },
    {
      "cell_type": "code",
      "metadata": {
        "id": "TpmGgnSTn4T7"
      },
      "source": [
        "class Trabajador:\n",
        "    def __init__( self , nt , nom , pat , mat , he , sb , ai):\n",
        "        self.__numero_trabajador = nt \n",
        "        #asi para todos los atributos\n",
        "        self.__nombre = nom\n",
        "        self.__apellido_paterno = pat\n",
        "        self.__apellido_materno = mat\n",
        "        self.__horas_extra = he \n",
        "        self.__sueldo_base = sb\n",
        "        self.__año_de_ingreso\n",
        "    #aqui van todos los metodos de acceso \n",
        "    #(set numero de trabajador, get numero de trabajador )\n",
        "    def set_numero_trabajador( self, nt):\n",
        "        self.__numero_trabajador = nt \n",
        "    def get_numero_de_trabajador\n",
        "    \n",
        "    # metodos de uso general -> metotos que hacen calculos logicos\n",
        "\n",
        "    \n"
      ],
      "execution_count": null,
      "outputs": []
    },
    {
      "cell_type": "code",
      "metadata": {
        "id": "20q9u6xeqAxL"
      },
      "source": [
        "class NominaADT:\n",
        "    def __init__( self , ruta_archivo ):\n",
        "        #abrir el archivo y determinar en numero de empleados (14) -> num_emp\n",
        "        self.__data = Array( num_emp )\n",
        "\n",
        "    def calcular_sueldos( self ):\n",
        "        #iterar sobre el Array y hacer el calculo de sueldos tomando las dos reglas\n",
        "\n",
        "    def buscar_mas_antiguo( self ):\n",
        "        #iterar y buscar en el Array el de mayor de antiguedad\n",
        "\n",
        "    def buscar_menor_antiguedad( self ):\n",
        "        #iterar y buscar en el Array el de menor de antiguedad"
      ],
      "execution_count": null,
      "outputs": []
    },
    {
      "cell_type": "code",
      "metadata": {
        "colab": {
          "base_uri": "https://localhost:8080/"
        },
        "id": "wwy0fS8zr57-",
        "outputId": "84d12aa6-7e0f-4e7b-f93c-39865147db11"
      },
      "source": [
        "sueldo_base = 100\n",
        "anio_ingreso = 2019\n",
        "antiguedad = 2\n",
        "prestacion = 100 * (2 * 0.03)\n",
        "print( sueldo_base + prestacion )"
      ],
      "execution_count": 9,
      "outputs": [
        {
          "output_type": "stream",
          "name": "stdout",
          "text": [
            "106.0\n"
          ]
        }
      ]
    }
  ]
}