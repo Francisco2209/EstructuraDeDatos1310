{
  "nbformat": 4,
  "nbformat_minor": 0,
  "metadata": {
    "colab": {
      "name": "tarea2.ipynb",
      "provenance": [],
      "collapsed_sections": []
    },
    "kernelspec": {
      "name": "python3",
      "display_name": "Python 3"
    },
    "language_info": {
      "name": "python"
    }
  },
  "cells": [
    {
      "cell_type": "code",
      "metadata": {
        "id": "Iiy_2By_qS3e"
      },
      "source": [
        "    def fib( n ):\n",
        "        if 1000 > n > 1:\n",
        "            print( n )\n",
        "            fib( (n - 1)+(n-2) )\n",
        "        elif n == 1:\n",
        "            return 1\n",
        "        else:\n",
        "            return 0\n"
      ],
      "execution_count": 7,
      "outputs": []
    },
    {
      "cell_type": "code",
      "metadata": {
        "id": "WA4s3qVaqZOs"
      },
      "source": [
        "fib(10)"
      ],
      "execution_count": null,
      "outputs": []
    },
    {
      "cell_type": "code",
      "metadata": {
        "id": "PgGo-6JdxusF"
      },
      "source": [
        "    def fibonacci(n):\n",
        "        if n > 1:\n",
        "            return fibonacci( n - 1 ) + fibonacci( n - 2 )\n",
        "        return n\n",
        "    for i in range( 20 ):\n",
        "        print( fibonacci(i) )"
      ],
      "execution_count": null,
      "outputs": []
    },
    {
      "cell_type": "code",
      "metadata": {
        "id": "8DAi1AslqdpT"
      },
      "source": [
        "    def sumar_enteros( lista ):\n",
        "        if len( lista ) == 1:\n",
        "            return lista[0]\n",
        "        else:\n",
        "            return lista[0] + sumar_enteros( lista[1:])\n",
        "            "
      ],
      "execution_count": 8,
      "outputs": []
    },
    {
      "cell_type": "code",
      "metadata": {
        "id": "QeAdxXStxk7C"
      },
      "source": [
        "    numeros = [ 10, 3, 8, 12, 7 ]\n",
        "\n",
        "    resultado = sumar_enteros(numeros)\n",
        "\n",
        "    print(f'La suma de los numeros es:  {resultado}' )"
      ],
      "execution_count": null,
      "outputs": []
    },
    {
      "cell_type": "code",
      "metadata": {
        "id": "UM7zLci7yBfV"
      },
      "source": [
        "   def printRev( n ):\n",
        "        if n > 0 :\n",
        "            print( n )\n",
        "            printRev( n-1 )\n",
        "        else:\n",
        "            print( n )\n",
        "            print( 'BOOOOOOOMMMMM' )"
      ],
      "execution_count": 15,
      "outputs": []
    },
    {
      "cell_type": "code",
      "metadata": {
        "id": "WvoMveByyJL9"
      },
      "source": [
        "    printRev( 15 )"
      ],
      "execution_count": null,
      "outputs": []
    },
    {
      "cell_type": "code",
      "metadata": {
        "colab": {
          "base_uri": "https://localhost:8080/"
        },
        "id": "pD3GpT3273RJ",
        "outputId": "97f4f0b2-d920-43d6-9b30-663f876581a6"
      },
      "source": [
        "    numeros = [ 10, 3, 8, 12, 7 ]\n",
        "\n",
        "    numeros.pop( len(numeros) // 2 )\n",
        "\n",
        "    print('La lista modificada es: ')\n",
        "\n",
        "    print(numeros)\n"
      ],
      "execution_count": 17,
      "outputs": [
        {
          "output_type": "stream",
          "name": "stdout",
          "text": [
            "La lista modificada es: \n",
            "[10, 3, 12, 7]\n"
          ]
        }
      ]
    }
  ]
}